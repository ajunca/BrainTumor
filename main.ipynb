{
 "cells": [
  {
   "cell_type": "markdown",
   "source": [
    "## Import necessary modules"
   ],
   "metadata": {
    "collapsed": false
   }
  },
  {
   "cell_type": "code",
   "execution_count": 5,
   "metadata": {
    "collapsed": true,
    "ExecuteTime": {
     "end_time": "2023-06-15T11:41:14.953292729Z",
     "start_time": "2023-06-15T11:41:14.933226370Z"
    }
   },
   "outputs": [],
   "source": [
    "from WholeBrain.Observables.swfcd import swFCD\n",
    "from WholeBrain.Observables.metastability import Metastability\n",
    "from WholeBrain.Observables.event_based_intrinsic_ignition import EventBasedIntrinsicIgnition\n",
    "# from WholeBrain.Observables.phase_based_intrinsic_ignition import PhaseBasedIntrinsicIgnition\n",
    "from WholeBrain.Filters.bold_band_pass_filter import BOLDBandPassFilter\n",
    "from WholeBrain.Utils.p_values import plotComparisonAcrossLabels2\n",
    "# import matplotlib.pyplot as plt\n",
    "from subjects import *"
   ]
  },
  {
   "cell_type": "markdown",
   "source": [
    "## Setup parameters"
   ],
   "metadata": {
    "collapsed": false
   }
  },
  {
   "cell_type": "code",
   "execution_count": 6,
   "outputs": [],
   "source": [
    "data_dir = \"data\""
   ],
   "metadata": {
    "collapsed": false,
    "ExecuteTime": {
     "end_time": "2023-06-15T11:41:14.975935402Z",
     "start_time": "2023-06-15T11:41:14.936986984Z"
    }
   }
  },
  {
   "cell_type": "markdown",
   "source": [
    "## Load and print Subjects"
   ],
   "metadata": {
    "collapsed": false
   }
  },
  {
   "cell_type": "code",
   "execution_count": 7,
   "outputs": [
    {
     "name": "stdout",
     "output_type": "stream",
     "text": [
      "************************* Subjects Info *************************\n",
      "\u001B[94mID              FMRI_TR (ms)    TYPE                           VOLUME (cm³)    # REGIONS WITH TUMOR\n",
      "\u001B[0msub-CON01       2100.0          none                           0.0             0              \n",
      "sub-CON02       2100.0          none                           0.0             0              \n",
      "sub-CON03       2100.0          none                           0.0             0              \n",
      "sub-CON04       2100.0          none                           0.0             0              \n",
      "sub-CON05       2400.0          none                           0.0             0              \n",
      "sub-CON06       2400.0          none                           0.0             0              \n",
      "sub-CON07       2400.0          none                           0.0             0              \n",
      "sub-CON08       2400.0          none                           0.0             0              \n",
      "sub-CON09       2400.0          none                           0.0             0              \n",
      "sub-CON10       2400.0          none                           0.0             0              \n",
      "sub-CON11       2400.0          none                           0.0             0              \n",
      "sub-PAT01       2100.0          Meningioma I                   1.69            3              \n",
      "sub-PAT02       2100.0          Meningioma I                   0.75            2              \n",
      "sub-PAT03       2100.0          Meningioma I                   78.44           13             \n",
      "sub-PAT05       2100.0          Oligo-astrocytoma II           12.95           6              \n",
      "sub-PAT06       2100.0          Meningioma I                   12.81           3              \n",
      "sub-PAT07       2100.0          Ependymoma II                  33.94           9              \n",
      "sub-PAT08       2100.0          Meningioma I                   16.81           3              \n",
      "sub-PAT10       2400.0          Meningioma I                   0.59            0              \n",
      "sub-PAT11       2400.0          Meningioma II                  20.73           6              \n",
      "sub-PAT13       2400.0          Meningioma I                   2.09            2              \n",
      "sub-PAT14       2400.0          Meningioma I                   3.45            2              \n",
      "sub-PAT15       2400.0          Meningioma I                   2.13            1              \n",
      "sub-PAT16       2400.0          Anaplastic astrocytoma II-III  50.24           15             \n",
      "sub-PAT17       2400.0          Meningioma I                   0.58            1              \n",
      "sub-PAT19       2400.0          Meningioma I                   2.64            4              \n",
      "sub-PAT20       2400.0          Anaplastic astrocytoma III     15.24           5              \n",
      "sub-PAT22       2400.0          Oligodendroglioma II           15.16           4              \n",
      "sub-PAT23       2400.0          Meningioma I                   89.56           16             \n",
      "sub-PAT24       2400.0          Meningioma I                   5.91            1              \n",
      "sub-PAT25       2400.0          Glioma II                      18.56           8              \n",
      "sub-PAT26       2400.0          Anaplastic astrocytoma III     59.21           10             \n",
      "sub-PAT27       2400.0          Astrocytoma II                 13.24           4              \n",
      "sub-PAT28       2400.0          Oligodendroglioma II           11.49           3              \n",
      "sub-PAT29       2400.0          Oligo-astrocytoma III          36.2            4              \n",
      "sub-PAT31       2400.0          Oligodendroglioma II           4.24            1              \n",
      "*****************************************************************\n"
     ]
    }
   ],
   "source": [
    "subjects = Subjects()\n",
    "subjects.initialize(data_dir)\n",
    "\n",
    "print(\"************************* Subjects Info *************************\")\n",
    "subjects.pretty_print()\n",
    "print(\"*****************************************************************\")"
   ],
   "metadata": {
    "collapsed": false,
    "ExecuteTime": {
     "end_time": "2023-06-15T11:41:15.119766493Z",
     "start_time": "2023-06-15T11:41:15.003571399Z"
    }
   }
  },
  {
   "cell_type": "markdown",
   "source": [
    "## Partition Subjects into Subsets and print statistics"
   ],
   "metadata": {
    "collapsed": false
   }
  },
  {
   "cell_type": "code",
   "execution_count": 8,
   "outputs": [
    {
     "name": "stdout",
     "output_type": "stream",
     "text": [
      "************************* Subjects Subsets Info *************************\n",
      "\u001B[94mNAME            # TOTAL COUNT   # MENINGIOMA    # GLIOMA       \n",
      "\u001B[0mControl         11              0               0              \n",
      "Tumor           25              14              11             \n",
      "Meningioma      14              14              0              \n",
      "Glioma          11              0               11             \n",
      ">= 10cm³        15              5               10             \n",
      ">= 15cm³        11              4               7              \n",
      ">= 20cm³        7               3               4              \n",
      ">= 30cm³        6               2               4              \n",
      "*************************************************************************\n"
     ]
    }
   ],
   "source": [
    "subjects_subsets = {\n",
    "    'Control':      subjects.get_control_subset(),\n",
    "    'Tumor':        subjects.get_tumor_subset(),\n",
    "    'Meningioma':   subjects.get_meningioma_subset(),\n",
    "    'Glioma':       subjects.get_glioma_subset(),\n",
    "    '>= 10cm³':     subjects.get_plus_x_cm3_subset(10.0),\n",
    "    '>= 15cm³':     subjects.get_plus_x_cm3_subset(15.0),\n",
    "    '>= 20cm³':     subjects.get_plus_x_cm3_subset(20.0),\n",
    "    '>= 30cm³':     subjects.get_plus_x_cm3_subset(30.0),\n",
    "}\n",
    "\n",
    "print(\"************************* Subjects Subsets Info *************************\")\n",
    "print(f'\\033[94m', end=\"\")\n",
    "print('{:<15} {:<15} {:<15} {:<15}'.format(\n",
    "    'NAME', '# TOTAL COUNT', '# MENINGIOMA', '# GLIOMA'\n",
    "))\n",
    "print(f'\\033[0m', end=\"\")\n",
    "for k, v in subjects_subsets.items():\n",
    "    print('{:<15} {:<15} {:<15} {:<15}'.format(\n",
    "        k, str(v.count()), str(v.get_meningioma_subset().count()), str(v.get_glioma_subset().count())\n",
    "    ))\n",
    "print(\"*************************************************************************\")"
   ],
   "metadata": {
    "collapsed": false,
    "ExecuteTime": {
     "end_time": "2023-06-15T11:41:15.122842733Z",
     "start_time": "2023-06-15T11:41:15.120905444Z"
    }
   }
  },
  {
   "cell_type": "markdown",
   "source": [
    "## Compute swFCD\n",
    "&#x2BC1; **TODO: Filter parameters?????**"
   ],
   "metadata": {
    "collapsed": false
   }
  },
  {
   "cell_type": "code",
   "execution_count": 9,
   "outputs": [],
   "source": [
    "def compute_preop_swFCD_dk68():\n",
    "    preop_ts_dk68 = subjects.filter_preop_ts_dk68()\n",
    "    result = dict()\n",
    "    swFCD_operator = swFCD()\n",
    "\n",
    "    for sub_id, ts_dk68 in preop_ts_dk68.items():\n",
    "        tr = subjects.get_subject_by_id(sub_id).get_fmri_tr()/1000.0\n",
    "        ms_dk68 = swFCD_operator.from_fMRI(\n",
    "            ts_dk68,\n",
    "            # TODO: Filter parameters???\n",
    "            BOLD_filter=BOLDBandPassFilter(tr=tr, flp=0.02, fhi=0.1, k=2, remove_strong_artifacts=3.0)\n",
    "        )\n",
    "        result[sub_id] = ms_dk68\n",
    "    return result\n",
    "\n",
    "preop_swFCD_dk68 = compute_preop_swFCD_dk68()"
   ],
   "metadata": {
    "collapsed": false,
    "ExecuteTime": {
     "end_time": "2023-06-15T11:41:24.643414613Z",
     "start_time": "2023-06-15T11:41:15.125189729Z"
    }
   }
  },
  {
   "cell_type": "markdown",
   "source": [
    "## TODO: Do things with swFCD"
   ],
   "metadata": {
    "collapsed": false
   }
  },
  {
   "cell_type": "code",
   "execution_count": 10,
   "outputs": [],
   "source": [
    "# TODO: Super useful computations and plotting with swFCD here!"
   ],
   "metadata": {
    "collapsed": false,
    "ExecuteTime": {
     "end_time": "2023-06-15T11:41:24.645889188Z",
     "start_time": "2023-06-15T11:41:24.644528575Z"
    }
   }
  },
  {
   "cell_type": "markdown",
   "source": [
    "## Compute metastability"
   ],
   "metadata": {
    "collapsed": false
   }
  },
  {
   "cell_type": "code",
   "execution_count": 11,
   "outputs": [],
   "source": [
    "def compute_preop_metastability_dk68():\n",
    "    preop_ts_dk68 = subjects.filter_preop_ts_dk68()\n",
    "    result = dict()\n",
    "    ms_operator = Metastability()\n",
    "\n",
    "    for sub_id, ts_dk68 in preop_ts_dk68.items():\n",
    "        tr = subjects.get_subject_by_id(sub_id).get_fmri_tr()/1000.0\n",
    "        ms_dk68 = ms_operator.from_fMRI(\n",
    "            ts_dk68,\n",
    "            BOLD_filter=BOLDBandPassFilter(tr=tr, flp=0.007, fhi=0.07, k=2, remove_strong_artifacts=3.0)\n",
    "        )\n",
    "        result[sub_id] = ms_dk68\n",
    "    return result\n",
    "\n",
    "preop_metastability_dk68 = compute_preop_metastability_dk68()"
   ],
   "metadata": {
    "collapsed": false,
    "ExecuteTime": {
     "end_time": "2023-06-15T11:41:25.133160435Z",
     "start_time": "2023-06-15T11:41:24.646937235Z"
    }
   }
  },
  {
   "cell_type": "markdown",
   "source": [
    "## Plot metastability Box"
   ],
   "metadata": {
    "collapsed": false
   }
  },
  {
   "cell_type": "code",
   "execution_count": 12,
   "outputs": [
    {
     "name": "stdout",
     "output_type": "stream",
     "text": [
      "p-value annotation legend:\n",
      "      ns: p <= 1.00e+00\n",
      "       *: 1.00e-02 < p <= 5.00e-02\n",
      "      **: 1.00e-03 < p <= 1.00e-02\n",
      "     ***: 1.00e-04 < p <= 1.00e-03\n",
      "    ****: p <= 1.00e-04\n",
      "\n",
      "Control vs. >= 15cm³: Mann-Whitney-Wilcoxon test two-sided with Benjamini-Hochberg correction, P_val:2.155e-02 U_stat=9.600e+01\n"
     ]
    },
    {
     "data": {
      "text/plain": "<Figure size 640x480 with 1 Axes>",
      "image/png": "[encoded data removed]"
     },
     "metadata": {},
     "output_type": "display_data"
    }
   ],
   "source": [
    "def plot_metastability_box(subjects_ms):\n",
    "    split_data = {\n",
    "        'Control': [v.metastability for k, v in subjects_subsets['Control'].keep_only_from_this_set(subjects_ms).items()],\n",
    "        # 'Tumor': [v.metastability for k, v in subjects_subsets['Tumor'].keep_only_from_this_set(subjects_ms).items()],\n",
    "        # 'Meningioma': [v.metastability for k, v in subjects_subsets['Meningioma'].keep_only_from_this_set(subjects_ms).items()],\n",
    "        # 'Glioma': [v.metastability for k, v in subjects_subsets['Glioma'].keep_only_from_this_set(subjects_ms).items()],\n",
    "        # '>= 10cm³': [v.metastability for k, v in subjects_subsets['>= 10cm³'].keep_only_from_this_set(subjects_ms).items()],\n",
    "        '>= 15cm³': [v.metastability for k, v in  subjects_subsets['>= 15cm³'].keep_only_from_this_set(subjects_ms).items()],\n",
    "        # '>= 20cm³': [v.metastability for k, v in subjects_subsets['>= 20cm³'].keep_only_from_this_set(subjects_ms).items()],\n",
    "        # '>= 30cm³': [v.metastability for k, v in subjects_subsets['>= 30cm³'].keep_only_from_this_set(subjects_ms).items()],\n",
    "    }\n",
    "\n",
    "    plotComparisonAcrossLabels2(\n",
    "        split_data,\n",
    "        graphLabel='Metastability'\n",
    "    )\n",
    "\n",
    "plot_metastability_box(preop_metastability_dk68)"
   ],
   "metadata": {
    "collapsed": false,
    "ExecuteTime": {
     "end_time": "2023-06-15T11:41:25.303986771Z",
     "start_time": "2023-06-15T11:41:25.136202247Z"
    }
   }
  },
  {
   "cell_type": "markdown",
   "source": [
    "## Compute Event Based Intrinsic Ignition\n",
    "&#x2BC1; **NOTE: If we use TR length 8 for the 2100ms TR scans and length 7 for the 2400ms scans (or multiples of them), then we have the same windows time frame for each subject (16800ms).**"
   ],
   "metadata": {
    "collapsed": false
   }
  },
  {
   "cell_type": "code",
   "execution_count": 13,
   "outputs": [],
   "source": [
    "def compute_preop_event_based_intrinsic_ignition():\n",
    "    preop_ts_dk68 = subjects.filter_preop_ts_dk68()\n",
    "    result = dict()\n",
    "\n",
    "    for sub_id, ts_dk68 in preop_ts_dk68.items():\n",
    "\n",
    "        tr_ms = subjects.get_subject_by_id(sub_id).get_fmri_tr()\n",
    "\n",
    "        # If we use length 8 for the 2100ms TR scans and length 7 for the 2400ms scans (or multiple of them), then we have the same windows\n",
    "        # time frame for each subject (16800ms)\n",
    "        ignition_tr_length = None\n",
    "        if np.isclose(tr_ms, 2400.0):\n",
    "            ignition_tr_length = 7\n",
    "        elif np.isclose(tr_ms, 2100.0):\n",
    "            ignition_tr_length = 8\n",
    "        assert ignition_tr_length is not None, \"Ups... TR length not 2100 or 2400...\"\n",
    "\n",
    "        ebig_operator = EventBasedIntrinsicIgnition(ignition_tr_length=ignition_tr_length)\n",
    "\n",
    "        ebig_dk68 = ebig_operator.from_fMRI(\n",
    "            ts_dk68,\n",
    "            # flp=0.01, fhi=0.1\n",
    "            #   Tagliazucchi, Enzo, Pablo Balenzuela, Daniel Fraiman, and Dante R. Chialvo.\n",
    "            #       “Criticality in Large-Scale Brain FMRI Dynamics Unveiled by a Novel\n",
    "            #       Point Process Analysis.” Frontiers in Physiology 3 (2012). https://doi.org/10.3389/fphys.2012.00015.\n",
    "            #\n",
    "            # flp=0.04, fhi=0.07. NOTE: This paper uses phased based intrinsic ignition.\n",
    "            #   Glerean, Enrico, Juha Salmi, Juha M. Lahnakoski, Iiro P. Jääskeläinen, and Mikko Sams.\n",
    "            #       “Functional Magnetic Resonance Imaging Phase Synchronization as a Measure of Dynamic Functional Connectivity.”\n",
    "            #       Brain Connectivity 2, no. 2 (April 2012): 91–101. https://doi.org/10.1089/brain.2011.0068.\n",
    "            BOLD_filter=BOLDBandPassFilter(tr=tr_ms/1000.0, flp=0.01, fhi=0.1, k=2, remove_strong_artifacts=3.0)\n",
    "        )\n",
    "        result[sub_id] = ebig_dk68\n",
    "\n",
    "    return result\n",
    "\n",
    "preop_ebii_dk68 = compute_preop_event_based_intrinsic_ignition()"
   ],
   "metadata": {
    "collapsed": false,
    "ExecuteTime": {
     "end_time": "2023-06-15T11:41:42.883861768Z",
     "start_time": "2023-06-15T11:41:25.305553046Z"
    }
   }
  },
  {
   "cell_type": "markdown",
   "source": [
    "## Plot Event Based Intrinsict Ignition (mignition)"
   ],
   "metadata": {
    "collapsed": false
   }
  },
  {
   "cell_type": "code",
   "execution_count": 14,
   "outputs": [
    {
     "name": "stdout",
     "output_type": "stream",
     "text": [
      "p-value annotation legend:\n",
      "      ns: p <= 1.00e+00\n",
      "       *: 1.00e-02 < p <= 5.00e-02\n",
      "      **: 1.00e-03 < p <= 1.00e-02\n",
      "     ***: 1.00e-04 < p <= 1.00e-03\n",
      "    ****: p <= 1.00e-04\n",
      "\n",
      "Control vs. Glioma: Mann-Whitney-Wilcoxon test two-sided with Benjamini-Hochberg correction, P_val:2.557e-02 U_stat=9.500e+01\n",
      "Control vs. >= 10cm³: Mann-Whitney-Wilcoxon test two-sided with Benjamini-Hochberg correction, P_val:2.563e-02 U_stat=1.260e+02\n"
     ]
    },
    {
     "data": {
      "text/plain": "<Figure size 640x480 with 1 Axes>",
      "image/png": "[encoded data removed]"
     },
     "metadata": {},
     "output_type": "display_data"
    }
   ],
   "source": [
    "def plot_ebii_box(subjects_ebii):\n",
    "    split_data = {\n",
    "        'Control': [v.mignition for k, v in subjects_subsets['Control'].keep_only_from_this_set(subjects_ebii).items()],\n",
    "        # 'Tumor': [v.mignition for k, v in subjects_subsets['Tumor'].keep_only_from_this_set(subjects_ebii).items()],\n",
    "        # 'Meningioma': [v.mignition for k, v in subjects_subsets['Meningioma'].keep_only_from_this_set(subjects_ebii).items()],\n",
    "        'Glioma': [v.mignition for k, v in subjects_subsets['Glioma'].keep_only_from_this_set(subjects_ebii).items()],\n",
    "        '>= 10cm³': [v.mignition for k, v in subjects_subsets['>= 10cm³'].keep_only_from_this_set(subjects_ebii).items()],\n",
    "        # '>= 15cm³': [v.mignition for k, v in  subjects_subsets['>= 15cm³'].keep_only_from_this_set(subjects_ebii).items()],\n",
    "        # '>= 20cm³': [v.mignition for k, v in subjects_subsets['>= 20cm³'].keep_only_from_this_set(subjects_ebii).items()],\n",
    "        # '>= 30cm³': [v.mignition for k, v in subjects_subsets['>= 30cm³'].keep_only_from_this_set(subjects_ebii).items()],\n",
    "    }\n",
    "\n",
    "    plotComparisonAcrossLabels2(\n",
    "        split_data,\n",
    "        graphLabel='Event Based Intrinsic Ignition (mignition)',\n",
    "        pairs=[('Control', 'Glioma'), ('Control', '>= 10cm³')]\n",
    "    )\n",
    "\n",
    "plot_ebii_box(preop_ebii_dk68)"
   ],
   "metadata": {
    "collapsed": false,
    "ExecuteTime": {
     "end_time": "2023-06-15T11:41:42.961414851Z",
     "start_time": "2023-06-15T11:41:42.883622566Z"
    }
   }
  },
  {
   "cell_type": "code",
   "execution_count": 14,
   "outputs": [],
   "source": [],
   "metadata": {
    "collapsed": false,
    "ExecuteTime": {
     "end_time": "2023-06-15T11:41:42.964103197Z",
     "start_time": "2023-06-15T11:41:42.962658928Z"
    }
   }
  }
 ],
 "metadata": {
  "kernelspec": {
   "display_name": "Python 3",
   "language": "python",
   "name": "python3"
  },
  "language_info": {
   "codemirror_mode": {
    "name": "ipython",
    "version": 2
   },
   "file_extension": ".py",
   "mimetype": "text/x-python",
   "name": "python",
   "nbconvert_exporter": "python",
   "pygments_lexer": "ipython2",
   "version": "2.7.6"
  }
 },
 "nbformat": 4,
 "nbformat_minor": 0
}
