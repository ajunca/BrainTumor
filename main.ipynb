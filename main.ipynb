{
 "cells": [
  {
   "cell_type": "markdown",
   "source": [
    "## Import necessary modules"
   ],
   "metadata": {
    "collapsed": false
   }
  },
  {
   "cell_type": "code",
   "execution_count": 1,
   "metadata": {
    "collapsed": true,
    "ExecuteTime": {
     "end_time": "2023-05-12T09:23:00.807155720Z",
     "start_time": "2023-05-12T09:22:53.841228165Z"
    }
   },
   "outputs": [
    {
     "name": "stdout",
     "output_type": "stream",
     "text": [
      "Going to use Intrinsic Ignition...\n"
     ]
    }
   ],
   "source": [
    "import WholeBrain.Observables.intrinsicIgnition as ISObservable\n",
    "from Observables.functional_connectivity import FunctionalConnectivity\n",
    "from Observables.metastability import Metastability\n",
    "from Observables.event_based_intrinsic_ignition import EventBasedIntrinsicIgnition\n",
    "from WholeBrain.Observables.phase_based_intrinsic_ignition import PhaseBasedIntrinsicIgnition\n",
    "from Filters.bold_band_pass_filter import BOLDBandPassFilter\n",
    "import matplotlib.pyplot as plt\n",
    "from subjects import *"
   ]
  },
  {
   "cell_type": "markdown",
   "source": [
    "## Setup parameters"
   ],
   "metadata": {
    "collapsed": false
   }
  },
  {
   "cell_type": "code",
   "execution_count": 2,
   "outputs": [],
   "source": [
    "data_root_path = \"data/TVB_brain_tumor/\"\n",
    "data_subjects_path = data_root_path + \"derivatives/TVB/\""
   ],
   "metadata": {
    "collapsed": false,
    "ExecuteTime": {
     "end_time": "2023-05-12T09:23:00.809374656Z",
     "start_time": "2023-05-12T09:23:00.808486206Z"
    }
   }
  },
  {
   "cell_type": "markdown",
   "source": [
    "## Load subjects"
   ],
   "metadata": {
    "collapsed": false
   }
  },
  {
   "cell_type": "code",
   "execution_count": 3,
   "outputs": [
    {
     "name": "stdout",
     "output_type": "stream",
     "text": [
      "************************* Subjects Info *************************\n",
      "ID              FMRI_TR (ms)    TYPE                           VOLUME (cm³)   \n",
      "CON01           2100.0          none                           0.0            \n",
      "CON02           2100.0          none                           0.0            \n",
      "CON03           2100.0          none                           0.0            \n",
      "CON04           2100.0          none                           0.0            \n",
      "CON05           2400.0          none                           0.0            \n",
      "CON06           2400.0          none                           0.0            \n",
      "CON07           2400.0          none                           0.0            \n",
      "CON08           2400.0          none                           0.0            \n",
      "CON09           2400.0          none                           0.0            \n",
      "CON10           2400.0          none                           0.0            \n",
      "CON11           2400.0          none                           0.0            \n",
      "PAT01           2100.0          Meningioma I                   1.69           \n",
      "PAT02           2100.0          Meningioma I                   0.75           \n",
      "PAT03           2100.0          Meningioma I                   78.44          \n",
      "PAT05           2100.0          Oligo-astrocytoma II           12.95          \n",
      "PAT06           2100.0          Meningioma I                   12.81          \n",
      "PAT07           2100.0          Ependymoma II                  33.94          \n",
      "PAT08           2100.0          Meningioma I                   16.81          \n",
      "PAT10           2400.0          Meningioma I                   0.59           \n",
      "PAT11           2400.0          Meningioma II                  20.73          \n",
      "PAT13           2400.0          Meningioma I                   2.09           \n",
      "PAT14           2400.0          Meningioma I                   3.45           \n",
      "PAT15           2400.0          Meningioma I                   2.13           \n",
      "PAT16           2400.0          Anaplastic astrocytoma II-III  50.24          \n",
      "PAT17           2400.0          Meningioma I                   0.58           \n",
      "PAT19           2400.0          Meningioma I                   2.64           \n",
      "PAT20           2400.0          Anaplastic astrocytoma III     15.24          \n",
      "PAT22           2400.0          Oligodendroglioma II           15.16          \n",
      "PAT23           2400.0          Meningioma I                   89.56          \n",
      "PAT24           2400.0          Meningioma I                   5.91           \n",
      "PAT25           2400.0          Glioma II                      18.56          \n",
      "PAT26           2400.0          Anaplastic astrocytoma III     59.21          \n",
      "PAT27           2400.0          Astrocytoma II                 13.24          \n",
      "PAT28           2400.0          Oligodendroglioma II           11.49          \n",
      "PAT29           2400.0          Oligo-astrocytoma III          36.2           \n",
      "PAT31           2400.0          Oligodendroglioma II           4.24           \n",
      "*****************************************************************\n"
     ]
    }
   ],
   "source": [
    "subjects = Subjects()\n",
    "subjects.initialize(data_subjects_path)\n",
    "\n",
    "print(\"************************* Subjects Info *************************\")\n",
    "subjects.pretty_print()\n",
    "print(\"*****************************************************************\")"
   ],
   "metadata": {
    "collapsed": false,
    "ExecuteTime": {
     "end_time": "2023-05-12T09:23:00.935678917Z",
     "start_time": "2023-05-12T09:23:00.810815721Z"
    }
   }
  },
  {
   "cell_type": "markdown",
   "source": [
    "## Compute metastability"
   ],
   "metadata": {
    "collapsed": false
   }
  },
  {
   "cell_type": "code",
   "execution_count": 4,
   "outputs": [],
   "source": [
    "def compute_preop_metastability_dk68():\n",
    "    preop_ts_dk68 = subjects.filter_preop_ts_dk68()\n",
    "    result = dict()\n",
    "    ms_operator = Metastability()\n",
    "\n",
    "    for sub_id, ts_dk68 in preop_ts_dk68.items():\n",
    "        tr = subjects.get_subject_by_id(sub_id).get_fmri_tr()/1000.0\n",
    "        ms_dk68 = ms_operator.from_fMRI(\n",
    "            ts_dk68,\n",
    "            bold_filter=BOLDBandPassFilter(tr=tr, flp=0.007, fhi=0.07, k=2, remove_strong_artifacts=3.0)\n",
    "        )\n",
    "        result[sub_id] = ms_dk68\n",
    "    return result\n",
    "\n",
    "preop_metastability_dk68 = compute_preop_metastability_dk68()"
   ],
   "metadata": {
    "collapsed": false,
    "ExecuteTime": {
     "end_time": "2023-05-12T09:23:01.997913886Z",
     "start_time": "2023-05-12T09:23:00.935260737Z"
    }
   }
  },
  {
   "cell_type": "markdown",
   "source": [
    "## Plot metastability Box"
   ],
   "metadata": {
    "collapsed": false
   }
  },
  {
   "cell_type": "code",
   "execution_count": 5,
   "outputs": [
    {
     "data": {
      "text/plain": "<Figure size 640x480 with 1 Axes>",
      "image/png": "[encoded data removed]"
     },
     "metadata": {},
     "output_type": "display_data"
    }
   ],
   "source": [
    "def plot_metastability_box(subjects_ms):\n",
    "    fig, ax = plt.subplots()\n",
    "\n",
    "    s_none = subjects.filter_subjects(lambda sub: sub.get_tumor_type_and_grade() == 'none')\n",
    "    s_tumor = subjects.filter_subjects(lambda sub: sub.get_tumor_type_and_grade() != 'none')\n",
    "    s_meningioma = subjects.filter_subjects(lambda sub: 'Meningioma' in sub.get_tumor_type_and_grade())\n",
    "    s_glioma = subjects.filter_subjects(lambda sub: sub.get_tumor_type_and_grade() != 'none' and 'Meningioma' not in sub.get_tumor_type_and_grade())\n",
    "    s_plus_15_cm3 = subjects.filter_subjects(lambda sub: sub.get_tumor_size() >= 15.0)\n",
    "    s_plus_20_cm3 = subjects.filter_subjects(lambda sub: sub.get_tumor_size() >= 20.0)\n",
    "    s_plus_30_cm3 = subjects.filter_subjects(lambda sub: sub.get_tumor_size() >= 30.0)\n",
    "\n",
    "    data_none = {k: v.metastability for k, v in subjects_ms.items() if k in s_none.data}\n",
    "    data_tumor = {k: v.metastability for k, v in subjects_ms.items() if k in s_tumor.data}\n",
    "    data_meningioma = {k: v.metastability for k, v in subjects_ms.items() if k in s_meningioma.data}\n",
    "    data_glioma = {k: v.metastability for k, v in subjects_ms.items() if k in s_glioma.data}\n",
    "    data_plus_15_cm3 = {k: v.metastability for k, v in subjects_ms.items() if k in s_plus_15_cm3.data}\n",
    "    data_plus_20_cm3 = {k: v.metastability for k, v in subjects_ms.items() if k in s_plus_20_cm3.data}\n",
    "    data_plus_30_cm3 = {k: v.metastability for k, v in subjects_ms.items() if k in s_plus_30_cm3.data}\n",
    "\n",
    "    # Convert data to nparray\n",
    "    split_data = {\n",
    "        'Control':  np.array(list(data_none.values())),\n",
    "        'Tumor': np.array(list(data_tumor.values())),\n",
    "        'Meningioma': np.array(list(data_meningioma.values())),\n",
    "        'Glioma': np.array(list(data_glioma.values())),\n",
    "        '>= 15cm³': np.array(list(data_plus_15_cm3.values())),\n",
    "        '>= 20cm³': np.array(list(data_plus_20_cm3.values())),\n",
    "        '>= 30cm³': np.array(list(data_plus_30_cm3.values()))\n",
    "    }\n",
    "    plt.boxplot(split_data.values(), labels=split_data.keys())\n",
    "\n",
    "    plt.show()\n",
    "\n",
    "plot_metastability_box(preop_metastability_dk68)"
   ],
   "metadata": {
    "collapsed": false,
    "ExecuteTime": {
     "end_time": "2023-05-12T09:23:02.142180658Z",
     "start_time": "2023-05-12T09:23:02.004140750Z"
    }
   }
  },
  {
   "cell_type": "code",
   "execution_count": 5,
   "outputs": [],
   "source": [],
   "metadata": {
    "collapsed": false,
    "ExecuteTime": {
     "end_time": "2023-05-12T09:23:02.227260253Z",
     "start_time": "2023-05-12T09:23:02.142411184Z"
    }
   }
  }
 ],
 "metadata": {
  "kernelspec": {
   "display_name": "Python 3",
   "language": "python",
   "name": "python3"
  },
  "language_info": {
   "codemirror_mode": {
    "name": "ipython",
    "version": 2
   },
   "file_extension": ".py",
   "mimetype": "text/x-python",
   "name": "python",
   "nbconvert_exporter": "python",
   "pygments_lexer": "ipython2",
   "version": "2.7.6"
  }
 },
 "nbformat": 4,
 "nbformat_minor": 0
}
