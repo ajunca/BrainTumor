{
 "cells": [
  {
   "cell_type": "code",
   "execution_count": 1,
   "metadata": {
    "collapsed": true,
    "ExecuteTime": {
     "end_time": "2023-07-10T11:12:57.798527574Z",
     "start_time": "2023-07-10T11:12:57.757213864Z"
    }
   },
   "outputs": [],
   "source": [
    "import matplotlib.pyplot as plt\n",
    "import seaborn\n",
    "import pandas as pd\n",
    "from WholeBrain.Utils.p_values import plotComparisonAcrossLabels2"
   ]
  },
  {
   "cell_type": "code",
   "execution_count": 2,
   "outputs": [
    {
     "name": "stdout",
     "output_type": "stream",
     "text": [
      "************************* Subjects Info *************************\n",
      "\u001B[94mID              FMRI_TR (ms)    TYPE                           VOLUME (cm³)    # REGIONS WITH TUMOR\n",
      "\u001B[0msub-CON01       2100.0          none                           0.0             0              \n",
      "sub-CON02       2100.0          none                           0.0             0              \n",
      "sub-CON03       2100.0          none                           0.0             0              \n",
      "sub-CON04       2100.0          none                           0.0             0              \n",
      "sub-CON05       2400.0          none                           0.0             0              \n",
      "sub-CON06       2400.0          none                           0.0             0              \n",
      "sub-CON07       2400.0          none                           0.0             0              \n",
      "sub-CON08       2400.0          none                           0.0             0              \n",
      "sub-CON09       2400.0          none                           0.0             0              \n",
      "sub-CON10       2400.0          none                           0.0             0              \n",
      "sub-CON11       2400.0          none                           0.0             0              \n",
      "sub-PAT01       2100.0          Meningioma I                   1.69            3              \n",
      "sub-PAT02       2100.0          Meningioma I                   0.75            2              \n",
      "sub-PAT03       2100.0          Meningioma I                   78.44           13             \n",
      "sub-PAT05       2100.0          Oligo-astrocytoma II           12.95           6              \n",
      "sub-PAT06       2100.0          Meningioma I                   12.81           3              \n",
      "sub-PAT07       2100.0          Ependymoma II                  33.94           9              \n",
      "sub-PAT08       2100.0          Meningioma I                   16.81           3              \n",
      "sub-PAT10       2400.0          Meningioma I                   0.59            0              \n",
      "sub-PAT11       2400.0          Meningioma II                  20.73           6              \n",
      "sub-PAT13       2400.0          Meningioma I                   2.09            2              \n",
      "sub-PAT14       2400.0          Meningioma I                   3.45            2              \n",
      "sub-PAT15       2400.0          Meningioma I                   2.13            1              \n",
      "sub-PAT16       2400.0          Anaplastic astrocytoma II-III  50.24           15             \n",
      "sub-PAT17       2400.0          Meningioma I                   0.58            1              \n",
      "sub-PAT19       2400.0          Meningioma I                   2.64            4              \n",
      "sub-PAT20       2400.0          Anaplastic astrocytoma III     15.24           5              \n",
      "sub-PAT22       2400.0          Oligodendroglioma II           15.16           4              \n",
      "sub-PAT23       2400.0          Meningioma I                   89.56           16             \n",
      "sub-PAT24       2400.0          Meningioma I                   5.91            1              \n",
      "sub-PAT25       2400.0          Glioma II                      18.56           8              \n",
      "sub-PAT26       2400.0          Anaplastic astrocytoma III     59.21           10             \n",
      "sub-PAT27       2400.0          Astrocytoma II                 13.24           4              \n",
      "sub-PAT28       2400.0          Oligodendroglioma II           11.49           3              \n",
      "sub-PAT29       2400.0          Oligo-astrocytoma III          36.2            4              \n",
      "sub-PAT31       2400.0          Oligodendroglioma II           4.24            1              \n",
      "*****************************************************************\n"
     ]
    }
   ],
   "source": [
    "from ignition_common import *"
   ],
   "metadata": {
    "collapsed": false,
    "ExecuteTime": {
     "end_time": "2023-07-10T11:13:21.513334024Z",
     "start_time": "2023-07-10T11:12:57.798150674Z"
    }
   }
  },
  {
   "cell_type": "markdown",
   "source": [
    "Compute the Global Ignition but using the tumor masks"
   ],
   "metadata": {
    "collapsed": false
   }
  },
  {
   "cell_type": "code",
   "execution_count": 5,
   "outputs": [],
   "source": [
    "tumor_weighted_mignition = {\n",
    "    k: np.average(\n",
    "        v.mevokedinteg,\n",
    "        weights=[1.0-p for p in subjects.get_subject_by_id(k).tumor_regions.get_tumor_volumes_percentage()]\n",
    "    ) for k, v in tumor_subset.exclude_from_subset(['sub-PAT10']).keep_only_from_this_set(ignitions).items()\n",
    "}"
   ],
   "metadata": {
    "collapsed": false,
    "ExecuteTime": {
     "end_time": "2023-07-10T11:13:51.581242654Z",
     "start_time": "2023-07-10T11:13:51.540431256Z"
    }
   }
  },
  {
   "cell_type": "markdown",
   "source": [
    "Let's plot weighted global ignition vs patients"
   ],
   "metadata": {
    "collapsed": false
   }
  },
  {
   "cell_type": "code",
   "execution_count": 6,
   "outputs": [
    {
     "name": "stdout",
     "output_type": "stream",
     "text": [
      "p-value annotation legend:\n",
      "      ns: p <= 1.00e+00\n",
      "       *: 1.00e-02 < p <= 5.00e-02\n",
      "      **: 1.00e-03 < p <= 1.00e-02\n",
      "     ***: 1.00e-04 < p <= 1.00e-03\n",
      "    ****: p <= 1.00e-04\n",
      "\n",
      "Control vs. Tumor: Mann-Whitney-Wilcoxon test two-sided with Benjamini-Hochberg correction, P_val:1.310e-01 U_stat=1.750e+02\n"
     ]
    },
    {
     "data": {
      "text/plain": "<Figure size 640x480 with 1 Axes>",
      "image/png": "[encoded data removed]"
     },
     "metadata": {},
     "output_type": "display_data"
    }
   ],
   "source": [
    "\n",
    "plotComparisonAcrossLabels2(\n",
    "    {\n",
    "        'Control': [v.mignition for k, v in subjects.get_control_subset().keep_only_from_this_set(ignitions).items()],\n",
    "        'Tumor': [v for _, v in tumor_weighted_mignition.items()],\n",
    "    },\n",
    "    graphLabel='Masked Event Based Intrinsic Ignition (mignition)',\n",
    "    pairs=[('Control', 'Tumor')]\n",
    ")"
   ],
   "metadata": {
    "collapsed": false,
    "ExecuteTime": {
     "end_time": "2023-07-10T11:13:53.892247696Z",
     "start_time": "2023-07-10T11:13:53.802531076Z"
    }
   }
  },
  {
   "cell_type": "code",
   "execution_count": 4,
   "outputs": [],
   "source": [],
   "metadata": {
    "collapsed": false,
    "ExecuteTime": {
     "end_time": "2023-07-10T11:13:21.765543111Z",
     "start_time": "2023-07-10T11:13:21.760903072Z"
    }
   }
  }
 ],
 "metadata": {
  "kernelspec": {
   "display_name": "Python 3",
   "language": "python",
   "name": "python3"
  },
  "language_info": {
   "codemirror_mode": {
    "name": "ipython",
    "version": 2
   },
   "file_extension": ".py",
   "mimetype": "text/x-python",
   "name": "python",
   "nbconvert_exporter": "python",
   "pygments_lexer": "ipython2",
   "version": "2.7.6"
  }
 },
 "nbformat": 4,
 "nbformat_minor": 0
}
